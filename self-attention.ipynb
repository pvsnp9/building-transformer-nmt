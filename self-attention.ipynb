{
 "cells": [
  {
   "cell_type": "markdown",
   "metadata": {},
   "source": [
    "![attnetion](./media/main.gif)"
   ]
  },
  {
   "cell_type": "markdown",
   "metadata": {},
   "source": [
    "### Self attention\n",
    "\n",
    "Self-attentoin and attentions are similar. They fundamentally share the same concept and many common mathematical operations. A self-attention module takes in n inputs, and returns n outputs. What happens in this module? In layman’s terms, the self-attention mechanism allows the inputs to interact with each other (“self”) and find out who they should pay more attention to (“attention”). The outputs are aggregates of these interactions and attention scores.\n",
    "\n",
    "Here we compute basic self attention for three tokens; and steps are:\n",
    "- Prepare token (input)\n",
    "- Initialize the weights\n",
    "- Compute Key, Query, and Value\n",
    "- compute attention score\n",
    "- Compute softmax\n",
    "- Multiply Scores with valeus \n"
   ]
  },
  {
   "cell_type": "code",
   "execution_count": 2,
   "metadata": {},
   "outputs": [],
   "source": [
    "import math\n",
    "import torch\n",
    "from torch.nn.functional import softmax\n",
    "import seaborn as sns\n",
    "import matplotlib.pyplot as plt"
   ]
  },
  {
   "cell_type": "markdown",
   "metadata": {},
   "source": [
    "####  Input"
   ]
  },
  {
   "cell_type": "code",
   "execution_count": 3,
   "metadata": {},
   "outputs": [
    {
     "data": {
      "text/plain": [
       "tensor([[1., 0., 1., 0.],\n",
       "        [0., 2., 0., 2.],\n",
       "        [1., 1., 1., 1.]])"
      ]
     },
     "execution_count": 3,
     "metadata": {},
     "output_type": "execute_result"
    }
   ],
   "source": [
    "input_token = [\n",
    "  [1, 0, 1, 0], # token 1\n",
    "  [0, 2, 0, 2], # toekn 2\n",
    "  [1, 1, 1, 1]  # token 3\n",
    " ]\n",
    "input_token = torch.tensor(input_token, dtype=torch.float32)\n",
    "input_token"
   ]
  },
  {
   "cell_type": "markdown",
   "metadata": {},
   "source": [
    "#### Initialize weights \n",
    "\n",
    "Every input must have three representations. These representations are called key (orange), query (red), and value (purple). For this example, let’s take that we want these representations to have a dimension of 3. Because every input has a dimension of 4, this means each set of the weights must have a shape of 4×3.\n",
    "\n",
    "![kqv](./media/kqv.gif)\n"
   ]
  },
  {
   "cell_type": "markdown",
   "metadata": {},
   "source": [
    "Note: *In a neural network setting, these weights are usually small numbers, initialised randomly using an appropriate random distribution like Gaussian, Xavier and Kaiming distributions.*"
   ]
  },
  {
   "cell_type": "code",
   "execution_count": 4,
   "metadata": {},
   "outputs": [
    {
     "name": "stdout",
     "output_type": "stream",
     "text": [
      "Weights for key: \n",
      " tensor([[0., 0., 1.],\n",
      "        [1., 1., 0.],\n",
      "        [0., 1., 0.],\n",
      "        [1., 1., 0.]])\n",
      "Weights for query: \n",
      " tensor([[1., 0., 1.],\n",
      "        [1., 0., 0.],\n",
      "        [0., 0., 1.],\n",
      "        [0., 1., 1.]])\n",
      "Weights for value: \n",
      " tensor([[0., 2., 0.],\n",
      "        [0., 3., 0.],\n",
      "        [1., 0., 3.],\n",
      "        [1., 1., 0.]])\n"
     ]
    }
   ],
   "source": [
    "w_key = [\n",
    "  [0, 0, 1],\n",
    "  [1, 1, 0],\n",
    "  [0, 1, 0],\n",
    "  [1, 1, 0]\n",
    "]\n",
    "w_query = [\n",
    "  [1, 0, 1],\n",
    "  [1, 0, 0],\n",
    "  [0, 0, 1],\n",
    "  [0, 1, 1]\n",
    "]\n",
    "w_value = [\n",
    "  [0, 2, 0],\n",
    "  [0, 3, 0],\n",
    "  [1, 0, 3],\n",
    "  [1, 1, 0]\n",
    "]\n",
    "w_key = torch.tensor(w_key, dtype=torch.float32)\n",
    "w_query = torch.tensor(w_query, dtype=torch.float32)\n",
    "w_value = torch.tensor(w_value, dtype=torch.float32)\n",
    "\n",
    "print(\"Weights for key: \\n\", w_key)\n",
    "print(\"Weights for query: \\n\", w_query)\n",
    "print(\"Weights for value: \\n\", w_value)"
   ]
  },
  {
   "cell_type": "markdown",
   "metadata": {},
   "source": [
    "#### Compute Key, Query, Value "
   ]
  },
  {
   "cell_type": "code",
   "execution_count": 19,
   "metadata": {},
   "outputs": [],
   "source": [
    "keys = input_token @ w_key"
   ]
  },
  {
   "cell_type": "markdown",
   "metadata": {},
   "source": [
    "![Key](./media/k.gif)"
   ]
  },
  {
   "cell_type": "code",
   "execution_count": 15,
   "metadata": {},
   "outputs": [],
   "source": [
    "\n",
    "queries = input_token @ w_query"
   ]
  },
  {
   "cell_type": "markdown",
   "metadata": {},
   "source": [
    "![Key](./media/q.gif)"
   ]
  },
  {
   "cell_type": "code",
   "execution_count": 20,
   "metadata": {},
   "outputs": [],
   "source": [
    "values = input_token @ w_value"
   ]
  },
  {
   "cell_type": "markdown",
   "metadata": {},
   "source": [
    "![Key](./media/v.gif)"
   ]
  },
  {
   "cell_type": "code",
   "execution_count": 21,
   "metadata": {},
   "outputs": [
    {
     "name": "stdout",
     "output_type": "stream",
     "text": [
      "keys:\n",
      " tensor([[0., 1., 1.],\n",
      "        [4., 4., 0.],\n",
      "        [2., 3., 1.]])\n",
      "query: \n",
      " tensor([[1., 0., 2.],\n",
      "        [2., 2., 2.],\n",
      "        [2., 1., 3.]])\n",
      "valeus:\n",
      " tensor([[1., 2., 3.],\n",
      "        [2., 8., 0.],\n",
      "        [2., 6., 3.]])\n"
     ]
    }
   ],
   "source": [
    "print(\"keys:\\n\", keys)\n",
    "print(\"query: \\n\", queries)\n",
    "print(\"valeus:\\n\", values)"
   ]
  },
  {
   "cell_type": "markdown",
   "metadata": {},
   "source": [
    "Note: *The whole process of computing K, Q, V can be done simply creating linear function from nn module.*"
   ]
  },
  {
   "cell_type": "code",
   "execution_count": null,
   "metadata": {},
   "outputs": [],
   "source": [
    "# eg_linear =torch.nn.Linear(in_features=4, out_features=3, bias=True)\n",
    "# For each K,Q,V"
   ]
  },
  {
   "cell_type": "markdown",
   "metadata": {},
   "source": [
    "#### Compute Attention score \n",
    "\n",
    "To obtain attention scores, we start off with taking a dot product between Input 1’s query (red) with all keys (orange), including itself. Since there are 3 key representations (because we have 3 inputs), we obtain 3 attention scores (blue).\n",
    "\n",
    "This is known as dot product attention. There are other score function such as scaled dot product, and additive /concat score fucntion."
   ]
  },
  {
   "cell_type": "code",
   "execution_count": 32,
   "metadata": {},
   "outputs": [
    {
     "name": "stdout",
     "output_type": "stream",
     "text": [
      "attention score of input token:0: tensor([2., 4., 4.]) \n",
      "\n",
      "attention score of input token:1: tensor([ 4., 16., 12.]) \n",
      "\n",
      "attention score of input token:2: tensor([ 4., 12., 10.]) \n",
      "\n"
     ]
    }
   ],
   "source": [
    "attention_scores = queries @ keys.T\n",
    "for i in range(3):\n",
    "    print(f\"attention score of input token:{i}: {attention_scores[i]} \\n\")"
   ]
  },
  {
   "cell_type": "markdown",
   "metadata": {},
   "source": [
    "![attn](./media/attn.gif)"
   ]
  },
  {
   "cell_type": "markdown",
   "metadata": {},
   "source": [
    "#### Compute Softmax"
   ]
  },
  {
   "cell_type": "code",
   "execution_count": 34,
   "metadata": {},
   "outputs": [
    {
     "name": "stdout",
     "output_type": "stream",
     "text": [
      "softmax score: \n",
      " tensor([[6.3379e-02, 4.6831e-01, 4.6831e-01],\n",
      "        [6.0337e-06, 9.8201e-01, 1.7986e-02],\n",
      "        [2.9539e-04, 8.8054e-01, 1.1917e-01]])\n"
     ]
    }
   ],
   "source": [
    "softmax_score = softmax(attention_scores, dim=-1)\n",
    "print(f\"softmax score: \\n\", softmax_score)"
   ]
  },
  {
   "cell_type": "code",
   "execution_count": 35,
   "metadata": {},
   "outputs": [
    {
     "name": "stdout",
     "output_type": "stream",
     "text": [
      "tensor([[0.0000, 0.5000, 0.5000],\n",
      "        [0.0000, 1.0000, 0.0000],\n",
      "        [0.0000, 0.9000, 0.1000]], dtype=torch.float64)\n"
     ]
    }
   ],
   "source": [
    "# For Illustration, approximate the above as follows\n",
    "attn_scores_softmax = [\n",
    "  [0.0, 0.5, 0.5],\n",
    "  [0.0, 1.0, 0.0],\n",
    "  [0.0, 0.9, 0.1]\n",
    "]\n",
    "attn_scores_softmax = torch.tensor(attn_scores_softmax, dtype=float)\n",
    "print(attn_scores_softmax)"
   ]
  },
  {
   "cell_type": "markdown",
   "metadata": {},
   "source": [
    "#### Multiply Scores with Value\n",
    "\n",
    "The softmaxed attention scores for each input (blue) is multiplied with its corresponding value (purple). This results in 3 alignment vectors (yellow). Here, we’ll refer to them as weighted values.\n",
    "\n",
    "![value mult](./media/val_mul.gif)"
   ]
  },
  {
   "cell_type": "markdown",
   "metadata": {},
   "source": [
    "#### Scaled Dot Product function\n",
    "\n",
    "In general, it requires both query and key vector have the same length. We can choose matrix $M$ where $M$ is a matrix suitably chosen for translating between both spaces. \n",
    "\n",
    "$\\mathbf{q}^\\top \\mathbf{M} \\mathbf{k}$\n",
    "\n",
    "$\\mathrm{softmax}\\left(\\frac{\\mathbf Q \\mathbf K^\\top }{\\sqrt{d}}\\right) \\mathbf V \\in \\mathbb{R}^{n\\times v}.$"
   ]
  },
  {
   "cell_type": "code",
   "execution_count": 59,
   "metadata": {},
   "outputs": [],
   "source": [
    "class ScaledDotProductAttention(torch.nn.Module):\n",
    "    def __init__(self, dropout) -> None:\n",
    "        super().__init__()\n",
    "        self.dropout = torch.nn.Dropout(dropout)\n",
    "    \n",
    "    #Queries: (batch_size, no. of queries, d(embedding size))\n",
    "    #Keys: (batch_size, no. of queries, d(embedding size))\n",
    "    #Values: (batch_size, no. of key-value pairs, value dimension)\n",
    "    #valid_lens: (batch_size,) or (batch_size, no. of queries)\n",
    "    def forward(self, queries, keys, values, valid_lens=None):\n",
    "        d = queries.shape[-1]\n",
    "        scores = torch.bmm(queries, keys.transpose(1,2))/math.sqrt(d)\n",
    "        self.attention_weights = softmax(scores, dim=-1)\n",
    "        return torch.bmm(self.dropout(self.attention_weights), values)"
   ]
  },
  {
   "cell_type": "code",
   "execution_count": 60,
   "metadata": {},
   "outputs": [
    {
     "data": {
      "text/plain": [
       "tensor([[[ 0.1069,  0.4313,  0.6366, -0.4864]],\n",
       "\n",
       "        [[ 0.1918,  0.6280,  0.5808,  0.5317]]])"
      ]
     },
     "execution_count": 60,
     "metadata": {},
     "output_type": "execute_result"
    }
   ],
   "source": [
    "q = torch.normal(0, 1, (2, 1, 2))\n",
    "k = torch.normal(0, 1, (2, 10, 2))\n",
    "v = torch.normal(0, 1, (2, 10, 4))\n",
    "\n",
    "attention = ScaledDotProductAttention(dropout=0.3)\n",
    "result = attention(queries=q, keys=k, values=v)\n",
    "result\n"
   ]
  },
  {
   "cell_type": "code",
   "execution_count": 63,
   "metadata": {},
   "outputs": [
    {
     "data": {
      "text/plain": [
       "tensor([[[0.1319, 0.0671, 0.0951, 0.0659, 0.0372, 0.0463, 0.1875, 0.1604,\n",
       "          0.1912, 0.0176]],\n",
       "\n",
       "        [[0.0627, 0.0340, 0.0858, 0.0997, 0.1751, 0.0716, 0.0707, 0.1301,\n",
       "          0.2233, 0.0471]]])"
      ]
     },
     "execution_count": 63,
     "metadata": {},
     "output_type": "execute_result"
    }
   ],
   "source": [
    "attention.attention_weights"
   ]
  },
  {
   "cell_type": "markdown",
   "metadata": {},
   "source": [
    "#### Additive Attention Score \n",
    "\n",
    "\n"
   ]
  },
  {
   "cell_type": "code",
   "execution_count": 80,
   "metadata": {},
   "outputs": [
    {
     "data": {
      "image/png": "[encoded data removed]",
      "text/plain": [
       "<Figure size 600x400 with 2 Axes>"
      ]
     },
     "metadata": {},
     "output_type": "display_data"
    }
   ],
   "source": [
    "# Create a heatmap using Seaborn\n",
    "plt.figure(figsize=(6, 4))\n",
    "sns.heatmap(attention.attention_weights.squeeze(), cmap='BuPu', annot=True, fmt=\".2f\", cbar=True)\n",
    "plt.title(\"Heatmap\")\n",
    "plt.xlabel(\"Keys\")\n",
    "plt.ylabel(\"Queries\")\n",
    "plt.show()"
   ]
  },
  {
   "cell_type": "markdown",
   "metadata": {},
   "source": [
    "#### Additive Attention\n",
    "\n",
    " When queries $q$ and keys $k$ are vectors of different dimension, we can either use a matrix to address the mismatch via $\\mathbf{q}^\\top \\mathbf{M} \\mathbf{k}$, or we can use additive attention as the scoring function. Another benefit is that, as its name indicates, the attention is additive. This can lead to some minor computational savings.\n",
    "\n",
    " $a(\\mathbf q, \\mathbf k) = \\mathbf w_v^\\top \\textrm{tanh}(\\mathbf W_q\\mathbf q + \\mathbf W_k \\mathbf k) \\in \\mathbb{R}$\n",
    "\n",
    " where $\\mathbf W_q\\in\\mathbb R^{h\\times q}, \\mathbf W_k\\in\\mathbb R^{h\\times k},$ $\\mathbf w_v\\in\\mathbb R^{h}$\n"
   ]
  },
  {
   "cell_type": "code",
   "execution_count": 85,
   "metadata": {},
   "outputs": [],
   "source": [
    "class AdditiveAttention(torch.nn.Module):\n",
    "    def __init__(self, num_hiddens, dropout, ):\n",
    "        super().__init__()\n",
    "        self.w_k = torch.nn.LazyLinear(num_hiddens, bias=False)\n",
    "        self.w_q = torch.nn.LazyLinear(num_hiddens, bias=False)\n",
    "        self.w_v = torch.nn.LazyLinear(1, bias=False)\n",
    "        self.dropout = torch.nn.Dropout(dropout)\n",
    "        \n",
    "    # queries: (batch_szie, num of queries, 1, num_hiddens)\n",
    "    # keys: (batch_szie, 1, num of key-value pairs, num_hiddens)\n",
    "    # values: (batch_size, no. of key-value pairs, value dimension)\n",
    "    def forward(self, queries, keys, values, valid_lens=None):\n",
    "        queries, keys = self.w_q(queries), self.w_k(keys)\n",
    "        features = queries.unsqueeze(2) + keys.unsqueeze(1)\n",
    "        features = torch.tanh(features)\n",
    "        scores = self.w_v(features).squeeze(-1)\n",
    "        \n",
    "        self.attention_weights = softmax(scores, dim=-1)\n",
    "        return torch.bmm(self.dropout(self.attention_weights), values)"
   ]
  },
  {
   "cell_type": "code",
   "execution_count": 87,
   "metadata": {},
   "outputs": [
    {
     "name": "stderr",
     "output_type": "stream",
     "text": [
      "/home/whiskey/miniconda3/envs/nlp/lib/python3.10/site-packages/torch/nn/modules/lazy.py:180: UserWarning: Lazy modules are a new feature under heavy development so changes to the API or functionality can happen at any moment.\n",
      "  warnings.warn('Lazy modules are a new feature under heavy development '\n"
     ]
    }
   ],
   "source": [
    "queries = torch.normal(0, 1, (2, 1, 20))\n",
    "additive_attention = AdditiveAttention(num_hiddens=8, dropout=0.1)\n",
    "results = additive_attention(queries=queries, keys=k, values=v)"
   ]
  },
  {
   "cell_type": "code",
   "execution_count": 88,
   "metadata": {},
   "outputs": [
    {
     "data": {
      "text/plain": [
       "tensor([[[0.1020, 0.0892, 0.0922, 0.1153, 0.0886, 0.1075, 0.0909, 0.1138,\n",
       "          0.1099, 0.0904]],\n",
       "\n",
       "        [[0.0901, 0.0813, 0.0952, 0.1010, 0.1240, 0.0922, 0.0903, 0.1174,\n",
       "          0.1253, 0.0831]]], grad_fn=<SoftmaxBackward0>)"
      ]
     },
     "execution_count": 88,
     "metadata": {},
     "output_type": "execute_result"
    }
   ],
   "source": [
    "additive_attention.attention_weights"
   ]
  },
  {
   "cell_type": "code",
   "execution_count": 93,
   "metadata": {},
   "outputs": [
    {
     "data": {
      "image/png": "[encoded data removed]",
      "text/plain": [
       "<Figure size 600x400 with 2 Axes>"
      ]
     },
     "metadata": {},
     "output_type": "display_data"
    }
   ],
   "source": [
    "# Create a heatmap using Seaborn\n",
    "plt.figure(figsize=(6, 4))\n",
    "sns.heatmap(additive_attention.attention_weights.squeeze().detach().numpy(), cmap='BuPu', annot=True, fmt=\".2f\", cbar=True)\n",
    "plt.title(\"Heatmap\")\n",
    "plt.xlabel(\"Keys\")\n",
    "plt.ylabel(\"Queries\")\n",
    "plt.show()"
   ]
  },
  {
   "cell_type": "code",
   "execution_count": null,
   "metadata": {},
   "outputs": [],
   "source": []
  },
  {
   "cell_type": "markdown",
   "metadata": {},
   "source": [
    "### Illustrations "
   ]
  },
  {
   "cell_type": "markdown",
   "metadata": {},
   "source": [
    "##### Input Embedding \n",
    "\n",
    "Tokenizer:\n",
    "\n",
    "Tokenization is the process of breaking down a text or a sequence of characters into smaller units called tokens. Tokens can be words, subwords, or even individual characters, depending on the tokenizer and the specific task at hand\n",
    "\n",
    "- Word tokenizer: This tokenizer splits text into individual words based on spaces or punctuation marks.\n",
    "- Sentence tokenizer: Sentence tokenization divides a text into sentences. It identifies the boundaries between sentences based on punctuation marks like periods, exclamation marks, and question marks.\n",
    "- Subword tokenizer: Subword tokenization breaks text into smaller units that are smaller than words, often using techniques like Byte-Pair Encoding (BPE), SentencePiece, or WordPiece. This is commonly used in neural machine translation and other NLP tasks. Subword tokenization can handle out-of-vocabulary words by splitting them into subword units.\n",
    "- Character tokenizer: Character tokenization breaks text into individual characters. Each character becomes a separate token. This type of tokenizer is useful for character-level language modeling and some text generation tasks.\n",
    "- N-gram rokenizer: An N-gram tokenizer splits text into contiguous sequences of N tokens, which can be words, subwords, or characters. For example, a bigram tokenizer would split the sentence \"I love NLP\" into [\"I love\", \"love NLP\"].\n",
    "- Whitespace tokenizer: This tokenizer splits text based on whitespace characters (spaces, tabs, line breaks). It's a simple way to tokenize text, but it may not handle all cases well, especially when dealing with languages that don't use spaces to separate words.\n",
    "- Pre-trained tokenizer:  BERT, GPT-2\n",
    "\n",
    "\n",
    "![input embedding](./media/ie.png)\n"
   ]
  },
  {
   "cell_type": "markdown",
   "metadata": {},
   "source": [
    "#### Positional Encoding\n",
    "\n",
    "![PE](./media/pe.png)\n",
    "\n",
    "![PE1](./media/pe1.png)"
   ]
  },
  {
   "cell_type": "markdown",
   "metadata": {},
   "source": [
    "##### Q, K, V\n",
    "\n",
    "![QKV](./media/qkv.png)"
   ]
  },
  {
   "cell_type": "markdown",
   "metadata": {},
   "source": [
    "#### Multihead Attention (Encoder)\n",
    "\n",
    "$seq = sequence length$\n",
    "\n",
    "$d_{model} = size of embedding vector$\n",
    "\n",
    "$h = number of heads$\n",
    "\n",
    "$d_k = d_v = d_{model} / h$\n",
    "\n",
    "\n",
    "![MH](./media/mh.png)\n",
    "\n"
   ]
  },
  {
   "cell_type": "markdown",
   "metadata": {},
   "source": [
    "#### Multihead Attention (Decoder)"
   ]
  },
  {
   "cell_type": "markdown",
   "metadata": {},
   "source": [
    "#### Layer Normalization \n",
    "\n",
    "![LN](./media/ln.png)"
   ]
  },
  {
   "cell_type": "markdown",
   "metadata": {},
   "source": []
  },
  {
   "cell_type": "code",
   "execution_count": null,
   "metadata": {},
   "outputs": [],
   "source": []
  }
 ],
 "metadata": {
  "kernelspec": {
   "display_name": "nlp",
   "language": "python",
   "name": "python3"
  },
  "language_info": {
   "codemirror_mode": {
    "name": "ipython",
    "version": 3
   },
   "file_extension": ".py",
   "mimetype": "text/x-python",
   "name": "python",
   "nbconvert_exporter": "python",
   "pygments_lexer": "ipython3",
   "version": "3.9.18"
  },
  "orig_nbformat": 4
 },
 "nbformat": 4,
 "nbformat_minor": 2
}
